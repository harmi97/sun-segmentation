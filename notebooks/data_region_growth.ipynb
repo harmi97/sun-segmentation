{
 "metadata": {
  "language_info": {
   "codemirror_mode": {
    "name": "ipython",
    "version": 3
   },
   "file_extension": ".py",
   "mimetype": "text/x-python",
   "name": "python",
   "nbconvert_exporter": "python",
   "pygments_lexer": "ipython3",
   "version": "3.7.7"
  },
  "orig_nbformat": 2,
  "kernelspec": {
   "name": "python377jvsc74a57bd0c90bc5183ad5072c22070929d9938afc080eab6fc889119dede1767571181450",
   "display_name": "Python 3.7.7 64-bit ('Sun-Active-Region-Detection': conda)"
  }
 },
 "nbformat": 4,
 "nbformat_minor": 2,
 "cells": [
  {
   "source": [
    "# Downloading and preprocessing region growth anotations\n",
    "\n",
    "Region Growth anotations can be downloanded from https://github.com/observethesun/coronal_holes/blob/mnras2018/data/CH_abp.zip\n",
    "\n",
    "\n",
    "\n",
    "### Data reference\n",
    "\n",
    "Illarionov, E., & Tlatov, A. (2018). \n",
    "Segmentation of coronal holes in solar disc images with a convolutional neural network.\n",
    "Monthly Notices of the Royal Astronomical Society, 481(4), 5014–5021.\n",
    "\n",
    "Tlatov, A., Tavastsherna, K., & Vasil’eva, V. (2014). \n",
    "Coronal Holes in Solar Cycles 21 to 23.\n",
    "Solar Physics, 289."
   ],
   "cell_type": "markdown",
   "metadata": {}
  },
  {
   "cell_type": "code",
   "execution_count": 40,
   "metadata": {},
   "outputs": [],
   "source": [
    "import sys, os\n",
    "sys.path.append('../src')"
   ]
  },
  {
   "cell_type": "code",
   "execution_count": 41,
   "metadata": {},
   "outputs": [],
   "source": [
    "import glob\n",
    "import zipfile\n",
    "from datetime import datetime\n",
    "from pathlib import Path\n",
    "\n",
    "import astropy.units as u\n",
    "import numpy as np\n",
    "import sunpy\n",
    "from PIL import Image, ImageDraw\n",
    "from sunpy.coordinates.sun import angular_radius\n",
    "from sunpy.net.helioviewer import HelioviewerClient\n",
    "from tqdm import tqdm\n",
    "\n",
    "from prep_utils import (convert_jp2_to_png, create_labels_img,\n",
    "                        create_limb_mask, crop_limb)"
   ]
  },
  {
   "cell_type": "code",
   "execution_count": 42,
   "metadata": {},
   "outputs": [],
   "source": [
    "# Unzip sample data\n",
    "with zipfile.ZipFile(\"../data/sample_region_growth_anotation.zip\",\"r\") as zip_ref:\n",
    "    zip_ref.extractall(\"../data/\")"
   ]
  },
  {
   "cell_type": "code",
   "execution_count": 43,
   "metadata": {},
   "outputs": [],
   "source": [
    "# Define function for parsing files\n",
    "def get_objects(path, types=None):\n",
    "    \"\"\"Read pixel coordinates of objects from abp file.\"\"\"\n",
    "    spots = []\n",
    "    cores = []\n",
    "    with open(path, 'r') as fin:\n",
    "        fread = fin.readlines()\n",
    "        size = fread[0].split(\" \")[0:2]\n",
    "        num_objects = int(fread[2])\n",
    "        for i in range(num_objects):\n",
    "            info = np.array(fread[3 + 2 * i].split()).astype('int')\n",
    "            if (info[-1] == 0) and (types is None):\n",
    "                data = fread[4 + 2 * i].split()\n",
    "                spots.extend(data)\n",
    "            elif (info[-1] == 0) and ('spots' in types):\n",
    "                data = fread[4 + 2 * i].split()\n",
    "                spots.extend(data)\n",
    "            elif (info[-1] != 0) and ('cores' in types):\n",
    "                data = fread[4 + 2 * i].split()\n",
    "                cores.extend(data)\n",
    "            else:\n",
    "                continue\n",
    "    object_list = []\n",
    "    if types is None:\n",
    "        spots = np.array(spots).reshape((-1, 3))[:, 1:None:-1].astype('int')\n",
    "        object_list.append(spots)\n",
    "    else:\n",
    "        if 'spots' in types:\n",
    "            spots = np.array(spots).reshape((-1, 3))[:, 1:None:-1].astype('int')\n",
    "            object_list.append(spots)\n",
    "        if 'cores' in types:\n",
    "            cores = np.array(cores).reshape((-1, 3))[:, 1:None:-1].astype('int')\n",
    "            object_list.append(cores)\n",
    "    return size, object_list"
   ]
  },
  {
   "cell_type": "code",
   "execution_count": 44,
   "metadata": {},
   "outputs": [
    {
     "output_type": "stream",
     "name": "stderr",
     "text": [
      "100%|██████████| 15/15 [02:00<00:00,  8.01s/it]\n"
     ]
    }
   ],
   "source": [
    "coord_files = glob.glob(\"../data/region_growth_anotation/*.abp\")\n",
    "dir_path = \"../data/193/\"\n",
    "# Create required folders\n",
    "Path(dir_path + \"/masks/\").mkdir(parents=True, exist_ok=True)\n",
    "hv = HelioviewerClient()\n",
    "\n",
    "for file in tqdm(coord_files):\n",
    "    date = file.split(\"\\\\\")[-1].replace(\"_aia.abp\", \"\")\n",
    "    date = datetime.strptime(date, '%Y%m%d_%H%M%S')\n",
    "    # Download image file from HEK\n",
    "    fname = hv.download_png(date.strftime(\"%Y/%m/%d %H:%M:%S\"), 2.4, \"[SDO,AIA,AIA,193,1,100]\",\n",
    "                            x0=0, y0=0, width=1024, height=1024, progress=False,\n",
    "                            directory=f\"{dir_path}/imgs/\")\n",
    "    fname = fname.split(\"\\\\\")[-1]\n",
    "    # Get coords from file\n",
    "    size, obj = get_objects(file)\n",
    "    coords = []\n",
    "    for point in obj[0]:\n",
    "        x = int(point[0])\n",
    "        y = int(point[1])\n",
    "        coords.append((x, y))\n",
    "    # Create empty segmentation mask\n",
    "    im = Image.new('RGB', (1024, 1024), (0, 0, 0))\n",
    "    img = ImageDraw.Draw(im)\n",
    "    # Draw segmentations\n",
    "    for annotation in coords:\n",
    "        img.point(annotation, fill=\"white\")\n",
    "    im = im.transpose(method=Image.FLIP_TOP_BOTTOM)\n",
    "    im = im.rotate(270)\n",
    "    im.save(dir_path + \"/masks/\" + fname)"
   ]
  },
  {
   "cell_type": "code",
   "execution_count": 51,
   "metadata": {},
   "outputs": [
    {
     "output_type": "stream",
     "name": "stderr",
     "text": [
      "100%|██████████| 15/15 [00:09<00:00,  1.57it/s]\n"
     ]
    }
   ],
   "source": [
    "# Create limb mask\n",
    "create_limb_mask(img_size=(1024, 1024), radius=404, name=dir_path + \"limb_mask.png\")\n",
    "\n",
    "# Crop limb and save as new img\n",
    "imgs = glob.glob(f\"{dir_path}/imgs/*.png\")\n",
    "limb = Image.open(dir_path + \"limb_mask.png\").convert(\"RGB\")\n",
    "Path(dir_path + \"/imgs_prep/\").mkdir(parents=True, exist_ok=True)\n",
    "\n",
    "for img in tqdm(imgs):\n",
    "    fname = img.split(\"\\\\\")[-1]\n",
    "    img = Image.open(img).convert(\"RGB\")\n",
    "    cropped = crop_limb(img, limb)\n",
    "    cropped.save(f\"{dir_path}/imgs_prep/{fname}\")"
   ]
  },
  {
   "cell_type": "code",
   "execution_count": 46,
   "metadata": {},
   "outputs": [],
   "source": [
    "\n"
   ]
  }
 ]
}